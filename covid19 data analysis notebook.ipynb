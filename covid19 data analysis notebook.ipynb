{
 "cells": [
  {
   "cell_type": "markdown",
   "metadata": {},
   "source": [
    "# Welcome to Covid19 Data Analysis Notebook\n",
    "------------------------------------------"
   ]
  },
  {
   "cell_type": "markdown",
   "metadata": {},
   "source": [
    "### Let's Import the modules "
   ]
  },
  {
   "cell_type": "code",
   "execution_count": 8,
   "metadata": {},
   "outputs": [
    {
     "name": "stdout",
     "output_type": "stream",
     "text": [
      "Modules are imported.\n"
     ]
    }
   ],
   "source": [
    "import pandas as pd \n",
    "import numpy as np \n",
    "import seaborn as sns\n",
    "import matplotlib.pyplot as plt \n",
    "print('Modules are imported.')"
   ]
  },
  {
   "cell_type": "markdown",
   "metadata": {},
   "source": [
    "## Task 2 "
   ]
  },
  {
   "cell_type": "markdown",
   "metadata": {},
   "source": [
    "### Task 2.1: importing covid19 dataset\n",
    "importing \"Covid19_Confirmed_dataset.csv\" from \"./Dataset\" folder. \n"
   ]
  },
  {
   "cell_type": "code",
   "execution_count": 10,
   "metadata": {},
   "outputs": [
    {
     "data": {
      "text/html": [
       "<div>\n",
       "<style scoped>\n",
       "    .dataframe tbody tr th:only-of-type {\n",
       "        vertical-align: middle;\n",
       "    }\n",
       "\n",
       "    .dataframe tbody tr th {\n",
       "        vertical-align: top;\n",
       "    }\n",
       "\n",
       "    .dataframe thead th {\n",
       "        text-align: right;\n",
       "    }\n",
       "</style>\n",
       "<table border=\"1\" class=\"dataframe\">\n",
       "  <thead>\n",
       "    <tr style=\"text-align: right;\">\n",
       "      <th></th>\n",
       "      <th>Province/State</th>\n",
       "      <th>Country/Region</th>\n",
       "      <th>Lat</th>\n",
       "      <th>Long</th>\n",
       "      <th>1/22/20</th>\n",
       "      <th>1/23/20</th>\n",
       "      <th>1/24/20</th>\n",
       "      <th>1/25/20</th>\n",
       "      <th>1/26/20</th>\n",
       "      <th>1/27/20</th>\n",
       "      <th>...</th>\n",
       "      <th>4/21/20</th>\n",
       "      <th>4/22/20</th>\n",
       "      <th>4/23/20</th>\n",
       "      <th>4/24/20</th>\n",
       "      <th>4/25/20</th>\n",
       "      <th>4/26/20</th>\n",
       "      <th>4/27/20</th>\n",
       "      <th>4/28/20</th>\n",
       "      <th>4/29/20</th>\n",
       "      <th>4/30/20</th>\n",
       "    </tr>\n",
       "  </thead>\n",
       "  <tbody>\n",
       "    <tr>\n",
       "      <th>0</th>\n",
       "      <td>NaN</td>\n",
       "      <td>Afghanistan</td>\n",
       "      <td>33.0000</td>\n",
       "      <td>65.0000</td>\n",
       "      <td>0</td>\n",
       "      <td>0</td>\n",
       "      <td>0</td>\n",
       "      <td>0</td>\n",
       "      <td>0</td>\n",
       "      <td>0</td>\n",
       "      <td>...</td>\n",
       "      <td>1092</td>\n",
       "      <td>1176</td>\n",
       "      <td>1279</td>\n",
       "      <td>1351</td>\n",
       "      <td>1463</td>\n",
       "      <td>1531</td>\n",
       "      <td>1703</td>\n",
       "      <td>1828</td>\n",
       "      <td>1939</td>\n",
       "      <td>2171</td>\n",
       "    </tr>\n",
       "    <tr>\n",
       "      <th>1</th>\n",
       "      <td>NaN</td>\n",
       "      <td>Albania</td>\n",
       "      <td>41.1533</td>\n",
       "      <td>20.1683</td>\n",
       "      <td>0</td>\n",
       "      <td>0</td>\n",
       "      <td>0</td>\n",
       "      <td>0</td>\n",
       "      <td>0</td>\n",
       "      <td>0</td>\n",
       "      <td>...</td>\n",
       "      <td>609</td>\n",
       "      <td>634</td>\n",
       "      <td>663</td>\n",
       "      <td>678</td>\n",
       "      <td>712</td>\n",
       "      <td>726</td>\n",
       "      <td>736</td>\n",
       "      <td>750</td>\n",
       "      <td>766</td>\n",
       "      <td>773</td>\n",
       "    </tr>\n",
       "    <tr>\n",
       "      <th>2</th>\n",
       "      <td>NaN</td>\n",
       "      <td>Algeria</td>\n",
       "      <td>28.0339</td>\n",
       "      <td>1.6596</td>\n",
       "      <td>0</td>\n",
       "      <td>0</td>\n",
       "      <td>0</td>\n",
       "      <td>0</td>\n",
       "      <td>0</td>\n",
       "      <td>0</td>\n",
       "      <td>...</td>\n",
       "      <td>2811</td>\n",
       "      <td>2910</td>\n",
       "      <td>3007</td>\n",
       "      <td>3127</td>\n",
       "      <td>3256</td>\n",
       "      <td>3382</td>\n",
       "      <td>3517</td>\n",
       "      <td>3649</td>\n",
       "      <td>3848</td>\n",
       "      <td>4006</td>\n",
       "    </tr>\n",
       "    <tr>\n",
       "      <th>3</th>\n",
       "      <td>NaN</td>\n",
       "      <td>Andorra</td>\n",
       "      <td>42.5063</td>\n",
       "      <td>1.5218</td>\n",
       "      <td>0</td>\n",
       "      <td>0</td>\n",
       "      <td>0</td>\n",
       "      <td>0</td>\n",
       "      <td>0</td>\n",
       "      <td>0</td>\n",
       "      <td>...</td>\n",
       "      <td>717</td>\n",
       "      <td>723</td>\n",
       "      <td>723</td>\n",
       "      <td>731</td>\n",
       "      <td>738</td>\n",
       "      <td>738</td>\n",
       "      <td>743</td>\n",
       "      <td>743</td>\n",
       "      <td>743</td>\n",
       "      <td>745</td>\n",
       "    </tr>\n",
       "    <tr>\n",
       "      <th>4</th>\n",
       "      <td>NaN</td>\n",
       "      <td>Angola</td>\n",
       "      <td>-11.2027</td>\n",
       "      <td>17.8739</td>\n",
       "      <td>0</td>\n",
       "      <td>0</td>\n",
       "      <td>0</td>\n",
       "      <td>0</td>\n",
       "      <td>0</td>\n",
       "      <td>0</td>\n",
       "      <td>...</td>\n",
       "      <td>24</td>\n",
       "      <td>25</td>\n",
       "      <td>25</td>\n",
       "      <td>25</td>\n",
       "      <td>25</td>\n",
       "      <td>26</td>\n",
       "      <td>27</td>\n",
       "      <td>27</td>\n",
       "      <td>27</td>\n",
       "      <td>27</td>\n",
       "    </tr>\n",
       "    <tr>\n",
       "      <th>5</th>\n",
       "      <td>NaN</td>\n",
       "      <td>Antigua and Barbuda</td>\n",
       "      <td>17.0608</td>\n",
       "      <td>-61.7964</td>\n",
       "      <td>0</td>\n",
       "      <td>0</td>\n",
       "      <td>0</td>\n",
       "      <td>0</td>\n",
       "      <td>0</td>\n",
       "      <td>0</td>\n",
       "      <td>...</td>\n",
       "      <td>23</td>\n",
       "      <td>24</td>\n",
       "      <td>24</td>\n",
       "      <td>24</td>\n",
       "      <td>24</td>\n",
       "      <td>24</td>\n",
       "      <td>24</td>\n",
       "      <td>24</td>\n",
       "      <td>24</td>\n",
       "      <td>24</td>\n",
       "    </tr>\n",
       "    <tr>\n",
       "      <th>6</th>\n",
       "      <td>NaN</td>\n",
       "      <td>Argentina</td>\n",
       "      <td>-38.4161</td>\n",
       "      <td>-63.6167</td>\n",
       "      <td>0</td>\n",
       "      <td>0</td>\n",
       "      <td>0</td>\n",
       "      <td>0</td>\n",
       "      <td>0</td>\n",
       "      <td>0</td>\n",
       "      <td>...</td>\n",
       "      <td>3031</td>\n",
       "      <td>3144</td>\n",
       "      <td>3435</td>\n",
       "      <td>3607</td>\n",
       "      <td>3780</td>\n",
       "      <td>3892</td>\n",
       "      <td>4003</td>\n",
       "      <td>4127</td>\n",
       "      <td>4285</td>\n",
       "      <td>4428</td>\n",
       "    </tr>\n",
       "    <tr>\n",
       "      <th>7</th>\n",
       "      <td>NaN</td>\n",
       "      <td>Armenia</td>\n",
       "      <td>40.0691</td>\n",
       "      <td>45.0382</td>\n",
       "      <td>0</td>\n",
       "      <td>0</td>\n",
       "      <td>0</td>\n",
       "      <td>0</td>\n",
       "      <td>0</td>\n",
       "      <td>0</td>\n",
       "      <td>...</td>\n",
       "      <td>1401</td>\n",
       "      <td>1473</td>\n",
       "      <td>1523</td>\n",
       "      <td>1596</td>\n",
       "      <td>1677</td>\n",
       "      <td>1746</td>\n",
       "      <td>1808</td>\n",
       "      <td>1867</td>\n",
       "      <td>1932</td>\n",
       "      <td>2066</td>\n",
       "    </tr>\n",
       "    <tr>\n",
       "      <th>8</th>\n",
       "      <td>Australian Capital Territory</td>\n",
       "      <td>Australia</td>\n",
       "      <td>-35.4735</td>\n",
       "      <td>149.0124</td>\n",
       "      <td>0</td>\n",
       "      <td>0</td>\n",
       "      <td>0</td>\n",
       "      <td>0</td>\n",
       "      <td>0</td>\n",
       "      <td>0</td>\n",
       "      <td>...</td>\n",
       "      <td>104</td>\n",
       "      <td>104</td>\n",
       "      <td>104</td>\n",
       "      <td>105</td>\n",
       "      <td>106</td>\n",
       "      <td>106</td>\n",
       "      <td>106</td>\n",
       "      <td>106</td>\n",
       "      <td>106</td>\n",
       "      <td>106</td>\n",
       "    </tr>\n",
       "    <tr>\n",
       "      <th>9</th>\n",
       "      <td>New South Wales</td>\n",
       "      <td>Australia</td>\n",
       "      <td>-33.8688</td>\n",
       "      <td>151.2093</td>\n",
       "      <td>0</td>\n",
       "      <td>0</td>\n",
       "      <td>0</td>\n",
       "      <td>0</td>\n",
       "      <td>3</td>\n",
       "      <td>4</td>\n",
       "      <td>...</td>\n",
       "      <td>2969</td>\n",
       "      <td>2971</td>\n",
       "      <td>2976</td>\n",
       "      <td>2982</td>\n",
       "      <td>2994</td>\n",
       "      <td>3002</td>\n",
       "      <td>3004</td>\n",
       "      <td>3016</td>\n",
       "      <td>3016</td>\n",
       "      <td>3025</td>\n",
       "    </tr>\n",
       "  </tbody>\n",
       "</table>\n",
       "<p>10 rows × 104 columns</p>\n",
       "</div>"
      ],
      "text/plain": [
       "                 Province/State       Country/Region      Lat      Long  \\\n",
       "0                           NaN          Afghanistan  33.0000   65.0000   \n",
       "1                           NaN              Albania  41.1533   20.1683   \n",
       "2                           NaN              Algeria  28.0339    1.6596   \n",
       "3                           NaN              Andorra  42.5063    1.5218   \n",
       "4                           NaN               Angola -11.2027   17.8739   \n",
       "5                           NaN  Antigua and Barbuda  17.0608  -61.7964   \n",
       "6                           NaN            Argentina -38.4161  -63.6167   \n",
       "7                           NaN              Armenia  40.0691   45.0382   \n",
       "8  Australian Capital Territory            Australia -35.4735  149.0124   \n",
       "9               New South Wales            Australia -33.8688  151.2093   \n",
       "\n",
       "   1/22/20  1/23/20  1/24/20  1/25/20  1/26/20  1/27/20  ...  4/21/20  \\\n",
       "0        0        0        0        0        0        0  ...     1092   \n",
       "1        0        0        0        0        0        0  ...      609   \n",
       "2        0        0        0        0        0        0  ...     2811   \n",
       "3        0        0        0        0        0        0  ...      717   \n",
       "4        0        0        0        0        0        0  ...       24   \n",
       "5        0        0        0        0        0        0  ...       23   \n",
       "6        0        0        0        0        0        0  ...     3031   \n",
       "7        0        0        0        0        0        0  ...     1401   \n",
       "8        0        0        0        0        0        0  ...      104   \n",
       "9        0        0        0        0        3        4  ...     2969   \n",
       "\n",
       "   4/22/20  4/23/20  4/24/20  4/25/20  4/26/20  4/27/20  4/28/20  4/29/20  \\\n",
       "0     1176     1279     1351     1463     1531     1703     1828     1939   \n",
       "1      634      663      678      712      726      736      750      766   \n",
       "2     2910     3007     3127     3256     3382     3517     3649     3848   \n",
       "3      723      723      731      738      738      743      743      743   \n",
       "4       25       25       25       25       26       27       27       27   \n",
       "5       24       24       24       24       24       24       24       24   \n",
       "6     3144     3435     3607     3780     3892     4003     4127     4285   \n",
       "7     1473     1523     1596     1677     1746     1808     1867     1932   \n",
       "8      104      104      105      106      106      106      106      106   \n",
       "9     2971     2976     2982     2994     3002     3004     3016     3016   \n",
       "\n",
       "   4/30/20  \n",
       "0     2171  \n",
       "1      773  \n",
       "2     4006  \n",
       "3      745  \n",
       "4       27  \n",
       "5       24  \n",
       "6     4428  \n",
       "7     2066  \n",
       "8      106  \n",
       "9     3025  \n",
       "\n",
       "[10 rows x 104 columns]"
      ]
     },
     "execution_count": 10,
     "metadata": {},
     "output_type": "execute_result"
    }
   ],
   "source": [
    "corona_dataset_csv = pd.read_csv(\"D:\\spyder files\\covid19\\Covid19_Confirmed_dataset.csv\")\n",
    "corona_dataset_csv.head(10)\n",
    "#We will notice data is from 22 January 2020 to 30 April 2020"
   ]
  },
  {
   "cell_type": "markdown",
   "metadata": {},
   "source": [
    "#### Let's check the shape of the dataframe"
   ]
  },
  {
   "cell_type": "code",
   "execution_count": 11,
   "metadata": {},
   "outputs": [
    {
     "data": {
      "text/plain": [
       "(266, 104)"
      ]
     },
     "execution_count": 11,
     "metadata": {},
     "output_type": "execute_result"
    }
   ],
   "source": [
    "\n",
    "corona_dataset_csv.shape"
   ]
  },
  {
   "cell_type": "markdown",
   "metadata": {},
   "source": [
    "### Task 2.2: Delete the useless columns"
   ]
  },
  {
   "cell_type": "code",
   "execution_count": 12,
   "metadata": {},
   "outputs": [
    {
     "data": {
      "text/plain": [
       "Index(['Province/State', 'Country/Region', 'Lat', 'Long', '1/22/20', '1/23/20',\n",
       "       '1/24/20', '1/25/20', '1/26/20', '1/27/20',\n",
       "       ...\n",
       "       '4/21/20', '4/22/20', '4/23/20', '4/24/20', '4/25/20', '4/26/20',\n",
       "       '4/27/20', '4/28/20', '4/29/20', '4/30/20'],\n",
       "      dtype='object', length=104)"
      ]
     },
     "execution_count": 12,
     "metadata": {},
     "output_type": "execute_result"
    }
   ],
   "source": [
    "columns = corona_dataset_csv.columns\n",
    "columns"
   ]
  },
  {
   "cell_type": "code",
   "execution_count": 13,
   "metadata": {},
   "outputs": [],
   "source": [
    "#Latitude and Longitude are not important features for us here\n",
    "corona_dataset_csv.drop([\"Lat\",\n",
    "                        \"Long\"],\n",
    "                        axis=1,\n",
    "                        #default value, annotation axis=0 which is equal to rows\n",
    "                        inplace = True   #will change the corona dataset too\n",
    "                        )"
   ]
  },
  {
   "cell_type": "markdown",
   "metadata": {},
   "source": [
    "### Task 2.3: Aggregating the rows by the country"
   ]
  },
  {
   "cell_type": "code",
   "execution_count": 15,
   "metadata": {},
   "outputs": [
    {
     "data": {
      "text/html": [
       "<div>\n",
       "<style scoped>\n",
       "    .dataframe tbody tr th:only-of-type {\n",
       "        vertical-align: middle;\n",
       "    }\n",
       "\n",
       "    .dataframe tbody tr th {\n",
       "        vertical-align: top;\n",
       "    }\n",
       "\n",
       "    .dataframe thead th {\n",
       "        text-align: right;\n",
       "    }\n",
       "</style>\n",
       "<table border=\"1\" class=\"dataframe\">\n",
       "  <thead>\n",
       "    <tr style=\"text-align: right;\">\n",
       "      <th></th>\n",
       "      <th>Province/State</th>\n",
       "      <th>Country/Region</th>\n",
       "      <th>1/22/20</th>\n",
       "      <th>1/23/20</th>\n",
       "      <th>1/24/20</th>\n",
       "      <th>1/25/20</th>\n",
       "      <th>1/26/20</th>\n",
       "      <th>1/27/20</th>\n",
       "      <th>1/28/20</th>\n",
       "      <th>1/29/20</th>\n",
       "      <th>...</th>\n",
       "      <th>4/21/20</th>\n",
       "      <th>4/22/20</th>\n",
       "      <th>4/23/20</th>\n",
       "      <th>4/24/20</th>\n",
       "      <th>4/25/20</th>\n",
       "      <th>4/26/20</th>\n",
       "      <th>4/27/20</th>\n",
       "      <th>4/28/20</th>\n",
       "      <th>4/29/20</th>\n",
       "      <th>4/30/20</th>\n",
       "    </tr>\n",
       "  </thead>\n",
       "  <tbody>\n",
       "    <tr>\n",
       "      <th>0</th>\n",
       "      <td>NaN</td>\n",
       "      <td>Afghanistan</td>\n",
       "      <td>0</td>\n",
       "      <td>0</td>\n",
       "      <td>0</td>\n",
       "      <td>0</td>\n",
       "      <td>0</td>\n",
       "      <td>0</td>\n",
       "      <td>0</td>\n",
       "      <td>0</td>\n",
       "      <td>...</td>\n",
       "      <td>1092</td>\n",
       "      <td>1176</td>\n",
       "      <td>1279</td>\n",
       "      <td>1351</td>\n",
       "      <td>1463</td>\n",
       "      <td>1531</td>\n",
       "      <td>1703</td>\n",
       "      <td>1828</td>\n",
       "      <td>1939</td>\n",
       "      <td>2171</td>\n",
       "    </tr>\n",
       "    <tr>\n",
       "      <th>1</th>\n",
       "      <td>NaN</td>\n",
       "      <td>Albania</td>\n",
       "      <td>0</td>\n",
       "      <td>0</td>\n",
       "      <td>0</td>\n",
       "      <td>0</td>\n",
       "      <td>0</td>\n",
       "      <td>0</td>\n",
       "      <td>0</td>\n",
       "      <td>0</td>\n",
       "      <td>...</td>\n",
       "      <td>609</td>\n",
       "      <td>634</td>\n",
       "      <td>663</td>\n",
       "      <td>678</td>\n",
       "      <td>712</td>\n",
       "      <td>726</td>\n",
       "      <td>736</td>\n",
       "      <td>750</td>\n",
       "      <td>766</td>\n",
       "      <td>773</td>\n",
       "    </tr>\n",
       "    <tr>\n",
       "      <th>2</th>\n",
       "      <td>NaN</td>\n",
       "      <td>Algeria</td>\n",
       "      <td>0</td>\n",
       "      <td>0</td>\n",
       "      <td>0</td>\n",
       "      <td>0</td>\n",
       "      <td>0</td>\n",
       "      <td>0</td>\n",
       "      <td>0</td>\n",
       "      <td>0</td>\n",
       "      <td>...</td>\n",
       "      <td>2811</td>\n",
       "      <td>2910</td>\n",
       "      <td>3007</td>\n",
       "      <td>3127</td>\n",
       "      <td>3256</td>\n",
       "      <td>3382</td>\n",
       "      <td>3517</td>\n",
       "      <td>3649</td>\n",
       "      <td>3848</td>\n",
       "      <td>4006</td>\n",
       "    </tr>\n",
       "    <tr>\n",
       "      <th>3</th>\n",
       "      <td>NaN</td>\n",
       "      <td>Andorra</td>\n",
       "      <td>0</td>\n",
       "      <td>0</td>\n",
       "      <td>0</td>\n",
       "      <td>0</td>\n",
       "      <td>0</td>\n",
       "      <td>0</td>\n",
       "      <td>0</td>\n",
       "      <td>0</td>\n",
       "      <td>...</td>\n",
       "      <td>717</td>\n",
       "      <td>723</td>\n",
       "      <td>723</td>\n",
       "      <td>731</td>\n",
       "      <td>738</td>\n",
       "      <td>738</td>\n",
       "      <td>743</td>\n",
       "      <td>743</td>\n",
       "      <td>743</td>\n",
       "      <td>745</td>\n",
       "    </tr>\n",
       "    <tr>\n",
       "      <th>4</th>\n",
       "      <td>NaN</td>\n",
       "      <td>Angola</td>\n",
       "      <td>0</td>\n",
       "      <td>0</td>\n",
       "      <td>0</td>\n",
       "      <td>0</td>\n",
       "      <td>0</td>\n",
       "      <td>0</td>\n",
       "      <td>0</td>\n",
       "      <td>0</td>\n",
       "      <td>...</td>\n",
       "      <td>24</td>\n",
       "      <td>25</td>\n",
       "      <td>25</td>\n",
       "      <td>25</td>\n",
       "      <td>25</td>\n",
       "      <td>26</td>\n",
       "      <td>27</td>\n",
       "      <td>27</td>\n",
       "      <td>27</td>\n",
       "      <td>27</td>\n",
       "    </tr>\n",
       "    <tr>\n",
       "      <th>5</th>\n",
       "      <td>NaN</td>\n",
       "      <td>Antigua and Barbuda</td>\n",
       "      <td>0</td>\n",
       "      <td>0</td>\n",
       "      <td>0</td>\n",
       "      <td>0</td>\n",
       "      <td>0</td>\n",
       "      <td>0</td>\n",
       "      <td>0</td>\n",
       "      <td>0</td>\n",
       "      <td>...</td>\n",
       "      <td>23</td>\n",
       "      <td>24</td>\n",
       "      <td>24</td>\n",
       "      <td>24</td>\n",
       "      <td>24</td>\n",
       "      <td>24</td>\n",
       "      <td>24</td>\n",
       "      <td>24</td>\n",
       "      <td>24</td>\n",
       "      <td>24</td>\n",
       "    </tr>\n",
       "    <tr>\n",
       "      <th>6</th>\n",
       "      <td>NaN</td>\n",
       "      <td>Argentina</td>\n",
       "      <td>0</td>\n",
       "      <td>0</td>\n",
       "      <td>0</td>\n",
       "      <td>0</td>\n",
       "      <td>0</td>\n",
       "      <td>0</td>\n",
       "      <td>0</td>\n",
       "      <td>0</td>\n",
       "      <td>...</td>\n",
       "      <td>3031</td>\n",
       "      <td>3144</td>\n",
       "      <td>3435</td>\n",
       "      <td>3607</td>\n",
       "      <td>3780</td>\n",
       "      <td>3892</td>\n",
       "      <td>4003</td>\n",
       "      <td>4127</td>\n",
       "      <td>4285</td>\n",
       "      <td>4428</td>\n",
       "    </tr>\n",
       "    <tr>\n",
       "      <th>7</th>\n",
       "      <td>NaN</td>\n",
       "      <td>Armenia</td>\n",
       "      <td>0</td>\n",
       "      <td>0</td>\n",
       "      <td>0</td>\n",
       "      <td>0</td>\n",
       "      <td>0</td>\n",
       "      <td>0</td>\n",
       "      <td>0</td>\n",
       "      <td>0</td>\n",
       "      <td>...</td>\n",
       "      <td>1401</td>\n",
       "      <td>1473</td>\n",
       "      <td>1523</td>\n",
       "      <td>1596</td>\n",
       "      <td>1677</td>\n",
       "      <td>1746</td>\n",
       "      <td>1808</td>\n",
       "      <td>1867</td>\n",
       "      <td>1932</td>\n",
       "      <td>2066</td>\n",
       "    </tr>\n",
       "    <tr>\n",
       "      <th>8</th>\n",
       "      <td>Australian Capital Territory</td>\n",
       "      <td>Australia</td>\n",
       "      <td>0</td>\n",
       "      <td>0</td>\n",
       "      <td>0</td>\n",
       "      <td>0</td>\n",
       "      <td>0</td>\n",
       "      <td>0</td>\n",
       "      <td>0</td>\n",
       "      <td>0</td>\n",
       "      <td>...</td>\n",
       "      <td>104</td>\n",
       "      <td>104</td>\n",
       "      <td>104</td>\n",
       "      <td>105</td>\n",
       "      <td>106</td>\n",
       "      <td>106</td>\n",
       "      <td>106</td>\n",
       "      <td>106</td>\n",
       "      <td>106</td>\n",
       "      <td>106</td>\n",
       "    </tr>\n",
       "    <tr>\n",
       "      <th>9</th>\n",
       "      <td>New South Wales</td>\n",
       "      <td>Australia</td>\n",
       "      <td>0</td>\n",
       "      <td>0</td>\n",
       "      <td>0</td>\n",
       "      <td>0</td>\n",
       "      <td>3</td>\n",
       "      <td>4</td>\n",
       "      <td>4</td>\n",
       "      <td>4</td>\n",
       "      <td>...</td>\n",
       "      <td>2969</td>\n",
       "      <td>2971</td>\n",
       "      <td>2976</td>\n",
       "      <td>2982</td>\n",
       "      <td>2994</td>\n",
       "      <td>3002</td>\n",
       "      <td>3004</td>\n",
       "      <td>3016</td>\n",
       "      <td>3016</td>\n",
       "      <td>3025</td>\n",
       "    </tr>\n",
       "  </tbody>\n",
       "</table>\n",
       "<p>10 rows × 102 columns</p>\n",
       "</div>"
      ],
      "text/plain": [
       "                 Province/State       Country/Region  1/22/20  1/23/20  \\\n",
       "0                           NaN          Afghanistan        0        0   \n",
       "1                           NaN              Albania        0        0   \n",
       "2                           NaN              Algeria        0        0   \n",
       "3                           NaN              Andorra        0        0   \n",
       "4                           NaN               Angola        0        0   \n",
       "5                           NaN  Antigua and Barbuda        0        0   \n",
       "6                           NaN            Argentina        0        0   \n",
       "7                           NaN              Armenia        0        0   \n",
       "8  Australian Capital Territory            Australia        0        0   \n",
       "9               New South Wales            Australia        0        0   \n",
       "\n",
       "   1/24/20  1/25/20  1/26/20  1/27/20  1/28/20  1/29/20  ...  4/21/20  \\\n",
       "0        0        0        0        0        0        0  ...     1092   \n",
       "1        0        0        0        0        0        0  ...      609   \n",
       "2        0        0        0        0        0        0  ...     2811   \n",
       "3        0        0        0        0        0        0  ...      717   \n",
       "4        0        0        0        0        0        0  ...       24   \n",
       "5        0        0        0        0        0        0  ...       23   \n",
       "6        0        0        0        0        0        0  ...     3031   \n",
       "7        0        0        0        0        0        0  ...     1401   \n",
       "8        0        0        0        0        0        0  ...      104   \n",
       "9        0        0        3        4        4        4  ...     2969   \n",
       "\n",
       "   4/22/20  4/23/20  4/24/20  4/25/20  4/26/20  4/27/20  4/28/20  4/29/20  \\\n",
       "0     1176     1279     1351     1463     1531     1703     1828     1939   \n",
       "1      634      663      678      712      726      736      750      766   \n",
       "2     2910     3007     3127     3256     3382     3517     3649     3848   \n",
       "3      723      723      731      738      738      743      743      743   \n",
       "4       25       25       25       25       26       27       27       27   \n",
       "5       24       24       24       24       24       24       24       24   \n",
       "6     3144     3435     3607     3780     3892     4003     4127     4285   \n",
       "7     1473     1523     1596     1677     1746     1808     1867     1932   \n",
       "8      104      104      105      106      106      106      106      106   \n",
       "9     2971     2976     2982     2994     3002     3004     3016     3016   \n",
       "\n",
       "   4/30/20  \n",
       "0     2171  \n",
       "1      773  \n",
       "2     4006  \n",
       "3      745  \n",
       "4       27  \n",
       "5       24  \n",
       "6     4428  \n",
       "7     2066  \n",
       "8      106  \n",
       "9     3025  \n",
       "\n",
       "[10 rows x 102 columns]"
      ]
     },
     "execution_count": 15,
     "metadata": {},
     "output_type": "execute_result"
    }
   ],
   "source": [
    "corona_dataset_csv.head(10)"
   ]
  },
  {
   "cell_type": "code",
   "execution_count": 16,
   "metadata": {},
   "outputs": [],
   "source": [
    "corona_dataset_aggregated = corona_dataset_csv.groupby(\"Country/Region\").sum()"
   ]
  },
  {
   "cell_type": "code",
   "execution_count": 17,
   "metadata": {},
   "outputs": [
    {
     "data": {
      "text/html": [
       "<div>\n",
       "<style scoped>\n",
       "    .dataframe tbody tr th:only-of-type {\n",
       "        vertical-align: middle;\n",
       "    }\n",
       "\n",
       "    .dataframe tbody tr th {\n",
       "        vertical-align: top;\n",
       "    }\n",
       "\n",
       "    .dataframe thead th {\n",
       "        text-align: right;\n",
       "    }\n",
       "</style>\n",
       "<table border=\"1\" class=\"dataframe\">\n",
       "  <thead>\n",
       "    <tr style=\"text-align: right;\">\n",
       "      <th></th>\n",
       "      <th>1/22/20</th>\n",
       "      <th>1/23/20</th>\n",
       "      <th>1/24/20</th>\n",
       "      <th>1/25/20</th>\n",
       "      <th>1/26/20</th>\n",
       "      <th>1/27/20</th>\n",
       "      <th>1/28/20</th>\n",
       "      <th>1/29/20</th>\n",
       "      <th>1/30/20</th>\n",
       "      <th>1/31/20</th>\n",
       "      <th>...</th>\n",
       "      <th>4/21/20</th>\n",
       "      <th>4/22/20</th>\n",
       "      <th>4/23/20</th>\n",
       "      <th>4/24/20</th>\n",
       "      <th>4/25/20</th>\n",
       "      <th>4/26/20</th>\n",
       "      <th>4/27/20</th>\n",
       "      <th>4/28/20</th>\n",
       "      <th>4/29/20</th>\n",
       "      <th>4/30/20</th>\n",
       "    </tr>\n",
       "    <tr>\n",
       "      <th>Country/Region</th>\n",
       "      <th></th>\n",
       "      <th></th>\n",
       "      <th></th>\n",
       "      <th></th>\n",
       "      <th></th>\n",
       "      <th></th>\n",
       "      <th></th>\n",
       "      <th></th>\n",
       "      <th></th>\n",
       "      <th></th>\n",
       "      <th></th>\n",
       "      <th></th>\n",
       "      <th></th>\n",
       "      <th></th>\n",
       "      <th></th>\n",
       "      <th></th>\n",
       "      <th></th>\n",
       "      <th></th>\n",
       "      <th></th>\n",
       "      <th></th>\n",
       "      <th></th>\n",
       "    </tr>\n",
       "  </thead>\n",
       "  <tbody>\n",
       "    <tr>\n",
       "      <th>Afghanistan</th>\n",
       "      <td>0</td>\n",
       "      <td>0</td>\n",
       "      <td>0</td>\n",
       "      <td>0</td>\n",
       "      <td>0</td>\n",
       "      <td>0</td>\n",
       "      <td>0</td>\n",
       "      <td>0</td>\n",
       "      <td>0</td>\n",
       "      <td>0</td>\n",
       "      <td>...</td>\n",
       "      <td>1092</td>\n",
       "      <td>1176</td>\n",
       "      <td>1279</td>\n",
       "      <td>1351</td>\n",
       "      <td>1463</td>\n",
       "      <td>1531</td>\n",
       "      <td>1703</td>\n",
       "      <td>1828</td>\n",
       "      <td>1939</td>\n",
       "      <td>2171</td>\n",
       "    </tr>\n",
       "    <tr>\n",
       "      <th>Albania</th>\n",
       "      <td>0</td>\n",
       "      <td>0</td>\n",
       "      <td>0</td>\n",
       "      <td>0</td>\n",
       "      <td>0</td>\n",
       "      <td>0</td>\n",
       "      <td>0</td>\n",
       "      <td>0</td>\n",
       "      <td>0</td>\n",
       "      <td>0</td>\n",
       "      <td>...</td>\n",
       "      <td>609</td>\n",
       "      <td>634</td>\n",
       "      <td>663</td>\n",
       "      <td>678</td>\n",
       "      <td>712</td>\n",
       "      <td>726</td>\n",
       "      <td>736</td>\n",
       "      <td>750</td>\n",
       "      <td>766</td>\n",
       "      <td>773</td>\n",
       "    </tr>\n",
       "    <tr>\n",
       "      <th>Algeria</th>\n",
       "      <td>0</td>\n",
       "      <td>0</td>\n",
       "      <td>0</td>\n",
       "      <td>0</td>\n",
       "      <td>0</td>\n",
       "      <td>0</td>\n",
       "      <td>0</td>\n",
       "      <td>0</td>\n",
       "      <td>0</td>\n",
       "      <td>0</td>\n",
       "      <td>...</td>\n",
       "      <td>2811</td>\n",
       "      <td>2910</td>\n",
       "      <td>3007</td>\n",
       "      <td>3127</td>\n",
       "      <td>3256</td>\n",
       "      <td>3382</td>\n",
       "      <td>3517</td>\n",
       "      <td>3649</td>\n",
       "      <td>3848</td>\n",
       "      <td>4006</td>\n",
       "    </tr>\n",
       "    <tr>\n",
       "      <th>Andorra</th>\n",
       "      <td>0</td>\n",
       "      <td>0</td>\n",
       "      <td>0</td>\n",
       "      <td>0</td>\n",
       "      <td>0</td>\n",
       "      <td>0</td>\n",
       "      <td>0</td>\n",
       "      <td>0</td>\n",
       "      <td>0</td>\n",
       "      <td>0</td>\n",
       "      <td>...</td>\n",
       "      <td>717</td>\n",
       "      <td>723</td>\n",
       "      <td>723</td>\n",
       "      <td>731</td>\n",
       "      <td>738</td>\n",
       "      <td>738</td>\n",
       "      <td>743</td>\n",
       "      <td>743</td>\n",
       "      <td>743</td>\n",
       "      <td>745</td>\n",
       "    </tr>\n",
       "    <tr>\n",
       "      <th>Angola</th>\n",
       "      <td>0</td>\n",
       "      <td>0</td>\n",
       "      <td>0</td>\n",
       "      <td>0</td>\n",
       "      <td>0</td>\n",
       "      <td>0</td>\n",
       "      <td>0</td>\n",
       "      <td>0</td>\n",
       "      <td>0</td>\n",
       "      <td>0</td>\n",
       "      <td>...</td>\n",
       "      <td>24</td>\n",
       "      <td>25</td>\n",
       "      <td>25</td>\n",
       "      <td>25</td>\n",
       "      <td>25</td>\n",
       "      <td>26</td>\n",
       "      <td>27</td>\n",
       "      <td>27</td>\n",
       "      <td>27</td>\n",
       "      <td>27</td>\n",
       "    </tr>\n",
       "  </tbody>\n",
       "</table>\n",
       "<p>5 rows × 100 columns</p>\n",
       "</div>"
      ],
      "text/plain": [
       "                1/22/20  1/23/20  1/24/20  1/25/20  1/26/20  1/27/20  1/28/20  \\\n",
       "Country/Region                                                                  \n",
       "Afghanistan           0        0        0        0        0        0        0   \n",
       "Albania               0        0        0        0        0        0        0   \n",
       "Algeria               0        0        0        0        0        0        0   \n",
       "Andorra               0        0        0        0        0        0        0   \n",
       "Angola                0        0        0        0        0        0        0   \n",
       "\n",
       "                1/29/20  1/30/20  1/31/20  ...  4/21/20  4/22/20  4/23/20  \\\n",
       "Country/Region                             ...                              \n",
       "Afghanistan           0        0        0  ...     1092     1176     1279   \n",
       "Albania               0        0        0  ...      609      634      663   \n",
       "Algeria               0        0        0  ...     2811     2910     3007   \n",
       "Andorra               0        0        0  ...      717      723      723   \n",
       "Angola                0        0        0  ...       24       25       25   \n",
       "\n",
       "                4/24/20  4/25/20  4/26/20  4/27/20  4/28/20  4/29/20  4/30/20  \n",
       "Country/Region                                                                 \n",
       "Afghanistan        1351     1463     1531     1703     1828     1939     2171  \n",
       "Albania             678      712      726      736      750      766      773  \n",
       "Algeria            3127     3256     3382     3517     3649     3848     4006  \n",
       "Andorra             731      738      738      743      743      743      745  \n",
       "Angola               25       25       26       27       27       27       27  \n",
       "\n",
       "[5 rows x 100 columns]"
      ]
     },
     "execution_count": 17,
     "metadata": {},
     "output_type": "execute_result"
    }
   ],
   "source": [
    "corona_dataset_aggregated.head()\n",
    "#After aggregation, the index of the df is the column at which we aggregated"
   ]
  },
  {
   "cell_type": "markdown",
   "metadata": {},
   "source": [
    "### Task 2.4: Visualizing data related to a country for example China\n",
    "visualization always helps for better understanding of our data."
   ]
  },
  {
   "cell_type": "code",
   "execution_count": 18,
   "metadata": {},
   "outputs": [
    {
     "data": {
      "text/plain": [
       "1/22/20      548\n",
       "1/23/20      643\n",
       "1/24/20      920\n",
       "1/25/20     1406\n",
       "1/26/20     2075\n",
       "           ...  \n",
       "4/26/20    83912\n",
       "4/27/20    83918\n",
       "4/28/20    83940\n",
       "4/29/20    83944\n",
       "4/30/20    83956\n",
       "Name: China, Length: 100, dtype: int64"
      ]
     },
     "execution_count": 18,
     "metadata": {},
     "output_type": "execute_result"
    }
   ],
   "source": [
    "corona_dataset_aggregated.loc[\"China\"]\n",
    "#will return pandas series"
   ]
  },
  {
   "cell_type": "markdown",
   "metadata": {},
   "source": [
    "### Task3: Calculating a good measure \n",
    "we need to find a good measure reperestend as a number, describing the spread of the virus in a country. "
   ]
  },
  {
   "cell_type": "code",
   "execution_count": 19,
   "metadata": {},
   "outputs": [
    {
     "data": {
      "text/plain": [
       "<matplotlib.axes._subplots.AxesSubplot at 0x27ef06844f0>"
      ]
     },
     "execution_count": 19,
     "metadata": {},
     "output_type": "execute_result"
    },
    {
     "data": {
      "image/png": "[encoded data removed]",
      "text/plain": [
       "<Figure size 432x288 with 1 Axes>"
      ]
     },
     "metadata": {
      "needs_background": "light"
     },
     "output_type": "display_data"
    }
   ],
   "source": [
    "corona_dataset_aggregated.loc['China'].plot()"
   ]
  },
  {
   "cell_type": "code",
   "execution_count": 20,
   "metadata": {},
   "outputs": [
    {
     "data": {
      "text/plain": [
       "<matplotlib.legend.Legend at 0x27ef06246a0>"
      ]
     },
     "execution_count": 20,
     "metadata": {},
     "output_type": "execute_result"
    },
    {
     "data": {
      "image/png": "[encoded data removed]",
      "text/plain": [
       "<Figure size 432x288 with 1 Axes>"
      ]
     },
     "metadata": {
      "needs_background": "light"
     },
     "output_type": "display_data"
    }
   ],
   "source": [
    "corona_dataset_aggregated.loc['Egypt'].plot()\n",
    "plt.legend()"
   ]
  },
  {
   "cell_type": "code",
   "execution_count": 21,
   "metadata": {},
   "outputs": [
    {
     "data": {
      "text/plain": [
       "<matplotlib.legend.Legend at 0x27ef0e4df70>"
      ]
     },
     "execution_count": 21,
     "metadata": {},
     "output_type": "execute_result"
    },
    {
     "data": {
      "image/png": "[encoded data removed]",
      "text/plain": [
       "<Figure size 432x288 with 1 Axes>"
      ]
     },
     "metadata": {
      "needs_background": "light"
     },
     "output_type": "display_data"
    }
   ],
   "source": [
    "corona_dataset_aggregated.loc['China'].plot()\n",
    "corona_dataset_aggregated.loc['Italy'].plot()\n",
    "corona_dataset_aggregated.loc['Spain'].plot()\n",
    "plt.legend()"
   ]
  },
  {
   "cell_type": "code",
   "execution_count": 22,
   "metadata": {},
   "outputs": [
    {
     "data": {
      "text/plain": [
       "<matplotlib.axes._subplots.AxesSubplot at 0x27ef0eb4070>"
      ]
     },
     "execution_count": 22,
     "metadata": {},
     "output_type": "execute_result"
    },
    {
     "data": {
      "image/png": "[encoded data removed]",
      "text/plain": [
       "<Figure size 432x288 with 1 Axes>"
      ]
     },
     "metadata": {
      "needs_background": "light"
     },
     "output_type": "display_data"
    }
   ],
   "source": [
    "corona_dataset_aggregated.loc['China'][:3].plot()"
   ]
  },
  {
   "cell_type": "markdown",
   "metadata": {},
   "source": [
    "### task 3.1: caculating the first derivative of the curve"
   ]
  },
  {
   "cell_type": "code",
   "execution_count": 23,
   "metadata": {},
   "outputs": [
    {
     "data": {
      "text/plain": [
       "<matplotlib.axes._subplots.AxesSubplot at 0x27ef0f147f0>"
      ]
     },
     "execution_count": 23,
     "metadata": {},
     "output_type": "execute_result"
    },
    {
     "data": {
      "image/png": "[encoded data removed]",
      "text/plain": [
       "<Figure size 432x288 with 1 Axes>"
      ]
     },
     "metadata": {
      "needs_background": "light"
     },
     "output_type": "display_data"
    }
   ],
   "source": [
    "\n",
    "corona_dataset_aggregated.loc[\"China\"].diff().plot()"
   ]
  },
  {
   "cell_type": "markdown",
   "metadata": {},
   "source": [
    "### task 3.2: find maxmimum infection rate for China"
   ]
  },
  {
   "cell_type": "code",
   "execution_count": 24,
   "metadata": {},
   "outputs": [
    {
     "data": {
      "text/plain": [
       "15136.0"
      ]
     },
     "execution_count": 24,
     "metadata": {},
     "output_type": "execute_result"
    }
   ],
   "source": [
    "corona_dataset_aggregated.loc[\"China\"].diff().max()\n",
    "#In only 24 hrs, the difference was 15136"
   ]
  },
  {
   "cell_type": "code",
   "execution_count": 25,
   "metadata": {},
   "outputs": [
    {
     "data": {
      "text/plain": [
       "6557.0"
      ]
     },
     "execution_count": 25,
     "metadata": {},
     "output_type": "execute_result"
    }
   ],
   "source": [
    "corona_dataset_aggregated.loc[\"Italy\"].diff().max()\n",
    "#In only 24 hrs, the difference was 6557"
   ]
  },
  {
   "cell_type": "code",
   "execution_count": 26,
   "metadata": {},
   "outputs": [
    {
     "data": {
      "text/plain": [
       "9630.0"
      ]
     },
     "execution_count": 26,
     "metadata": {},
     "output_type": "execute_result"
    }
   ],
   "source": [
    "corona_dataset_aggregated.loc[\"Spain\"].diff().max()\n",
    "#In only 24 hrs, the difference was 9630"
   ]
  },
  {
   "cell_type": "markdown",
   "metadata": {},
   "source": [
    "### Task 3.3: find maximum infection rate for all of the countries. "
   ]
  },
  {
   "cell_type": "code",
   "execution_count": 27,
   "metadata": {},
   "outputs": [
    {
     "data": {
      "text/plain": [
       "[232.0,\n",
       " 34.0,\n",
       " 199.0,\n",
       " 43.0,\n",
       " 5.0,\n",
       " 6.0,\n",
       " 291.0,\n",
       " 134.0,\n",
       " 497.0,\n",
       " 1321.0,\n",
       " 105.0,\n",
       " 7.0,\n",
       " 301.0,\n",
       " 641.0,\n",
       " 12.0,\n",
       " 1485.0,\n",
       " 2454.0,\n",
       " 4.0,\n",
       " 19.0,\n",
       " 1.0,\n",
       " 104.0,\n",
       " 92.0,\n",
       " 7.0,\n",
       " 7502.0,\n",
       " 26.0,\n",
       " 137.0,\n",
       " 41.0,\n",
       " 21.0,\n",
       " 6.0,\n",
       " 45.0,\n",
       " 31.0,\n",
       " 203.0,\n",
       " 2778.0,\n",
       " 31.0,\n",
       " 21.0,\n",
       " 1138.0,\n",
       " 15136.0,\n",
       " 353.0,\n",
       " 1.0,\n",
       " 57.0,\n",
       " 81.0,\n",
       " 37.0,\n",
       " 113.0,\n",
       " 96.0,\n",
       " 63.0,\n",
       " 58.0,\n",
       " 381.0,\n",
       " 391.0,\n",
       " 99.0,\n",
       " 156.0,\n",
       " 5.0,\n",
       " 371.0,\n",
       " 11536.0,\n",
       " 269.0,\n",
       " 32.0,\n",
       " 130.0,\n",
       " 7.0,\n",
       " 134.0,\n",
       " 20.0,\n",
       " 9.0,\n",
       " 5.0,\n",
       " 267.0,\n",
       " 26849.0,\n",
       " 38.0,\n",
       " 5.0,\n",
       " 42.0,\n",
       " 6933.0,\n",
       " 403.0,\n",
       " 156.0,\n",
       " 6.0,\n",
       " 68.0,\n",
       " 167.0,\n",
       " 132.0,\n",
       " 12.0,\n",
       " 10.0,\n",
       " 3.0,\n",
       " 72.0,\n",
       " 210.0,\n",
       " 99.0,\n",
       " 1893.0,\n",
       " 436.0,\n",
       " 3186.0,\n",
       " 91.0,\n",
       " 1515.0,\n",
       " 1131.0,\n",
       " 6557.0,\n",
       " 52.0,\n",
       " 1161.0,\n",
       " 40.0,\n",
       " 264.0,\n",
       " 29.0,\n",
       " 851.0,\n",
       " 289.0,\n",
       " 300.0,\n",
       " 69.0,\n",
       " 3.0,\n",
       " 48.0,\n",
       " 61.0,\n",
       " 17.0,\n",
       " 13.0,\n",
       " 21.0,\n",
       " 90.0,\n",
       " 234.0,\n",
       " 7.0,\n",
       " 14.0,\n",
       " 10.0,\n",
       " 235.0,\n",
       " 190.0,\n",
       " 58.0,\n",
       " 52.0,\n",
       " 2.0,\n",
       " 41.0,\n",
       " 1425.0,\n",
       " 222.0,\n",
       " 12.0,\n",
       " 13.0,\n",
       " 30.0,\n",
       " 281.0,\n",
       " 19.0,\n",
       " 3.0,\n",
       " 14.0,\n",
       " 1346.0,\n",
       " 89.0,\n",
       " 2.0,\n",
       " 69.0,\n",
       " 208.0,\n",
       " 107.0,\n",
       " 386.0,\n",
       " 144.0,\n",
       " 1292.0,\n",
       " 357.0,\n",
       " 5.0,\n",
       " 27.0,\n",
       " 3683.0,\n",
       " 538.0,\n",
       " 545.0,\n",
       " 1516.0,\n",
       " 957.0,\n",
       " 523.0,\n",
       " 7099.0,\n",
       " 22.0,\n",
       " 5.0,\n",
       " 6.0,\n",
       " 4.0,\n",
       " 54.0,\n",
       " 6.0,\n",
       " 1351.0,\n",
       " 87.0,\n",
       " 2379.0,\n",
       " 2.0,\n",
       " 20.0,\n",
       " 1426.0,\n",
       " 114.0,\n",
       " 70.0,\n",
       " 73.0,\n",
       " 354.0,\n",
       " 28.0,\n",
       " 9630.0,\n",
       " 65.0,\n",
       " 67.0,\n",
       " 3.0,\n",
       " 812.0,\n",
       " 1321.0,\n",
       " 6.0,\n",
       " 27.0,\n",
       " 15.0,\n",
       " 181.0,\n",
       " 188.0,\n",
       " 10.0,\n",
       " 14.0,\n",
       " 40.0,\n",
       " 82.0,\n",
       " 5138.0,\n",
       " 36188.0,\n",
       " 11.0,\n",
       " 578.0,\n",
       " 552.0,\n",
       " 8733.0,\n",
       " 48.0,\n",
       " 167.0,\n",
       " 29.0,\n",
       " 19.0,\n",
       " 66.0,\n",
       " 4.0,\n",
       " 5.0,\n",
       " 9.0,\n",
       " 8.0]"
      ]
     },
     "execution_count": 27,
     "metadata": {},
     "output_type": "execute_result"
    }
   ],
   "source": [
    "countries = list(corona_dataset_aggregated.index)\n",
    "max_infection_rates = []\n",
    "for c in countries :\n",
    "    max_infection_rates.append(corona_dataset_aggregated.loc[c].diff().max())\n",
    "max_infection_rates"
   ]
  },
  {
   "cell_type": "code",
   "execution_count": 28,
   "metadata": {},
   "outputs": [
    {
     "data": {
      "text/html": [
       "<div>\n",
       "<style scoped>\n",
       "    .dataframe tbody tr th:only-of-type {\n",
       "        vertical-align: middle;\n",
       "    }\n",
       "\n",
       "    .dataframe tbody tr th {\n",
       "        vertical-align: top;\n",
       "    }\n",
       "\n",
       "    .dataframe thead th {\n",
       "        text-align: right;\n",
       "    }\n",
       "</style>\n",
       "<table border=\"1\" class=\"dataframe\">\n",
       "  <thead>\n",
       "    <tr style=\"text-align: right;\">\n",
       "      <th></th>\n",
       "      <th>1/22/20</th>\n",
       "      <th>1/23/20</th>\n",
       "      <th>1/24/20</th>\n",
       "      <th>1/25/20</th>\n",
       "      <th>1/26/20</th>\n",
       "      <th>1/27/20</th>\n",
       "      <th>1/28/20</th>\n",
       "      <th>1/29/20</th>\n",
       "      <th>1/30/20</th>\n",
       "      <th>1/31/20</th>\n",
       "      <th>...</th>\n",
       "      <th>4/22/20</th>\n",
       "      <th>4/23/20</th>\n",
       "      <th>4/24/20</th>\n",
       "      <th>4/25/20</th>\n",
       "      <th>4/26/20</th>\n",
       "      <th>4/27/20</th>\n",
       "      <th>4/28/20</th>\n",
       "      <th>4/29/20</th>\n",
       "      <th>4/30/20</th>\n",
       "      <th>max_infection_rates</th>\n",
       "    </tr>\n",
       "    <tr>\n",
       "      <th>Country/Region</th>\n",
       "      <th></th>\n",
       "      <th></th>\n",
       "      <th></th>\n",
       "      <th></th>\n",
       "      <th></th>\n",
       "      <th></th>\n",
       "      <th></th>\n",
       "      <th></th>\n",
       "      <th></th>\n",
       "      <th></th>\n",
       "      <th></th>\n",
       "      <th></th>\n",
       "      <th></th>\n",
       "      <th></th>\n",
       "      <th></th>\n",
       "      <th></th>\n",
       "      <th></th>\n",
       "      <th></th>\n",
       "      <th></th>\n",
       "      <th></th>\n",
       "      <th></th>\n",
       "    </tr>\n",
       "  </thead>\n",
       "  <tbody>\n",
       "    <tr>\n",
       "      <th>Afghanistan</th>\n",
       "      <td>0</td>\n",
       "      <td>0</td>\n",
       "      <td>0</td>\n",
       "      <td>0</td>\n",
       "      <td>0</td>\n",
       "      <td>0</td>\n",
       "      <td>0</td>\n",
       "      <td>0</td>\n",
       "      <td>0</td>\n",
       "      <td>0</td>\n",
       "      <td>...</td>\n",
       "      <td>1176</td>\n",
       "      <td>1279</td>\n",
       "      <td>1351</td>\n",
       "      <td>1463</td>\n",
       "      <td>1531</td>\n",
       "      <td>1703</td>\n",
       "      <td>1828</td>\n",
       "      <td>1939</td>\n",
       "      <td>2171</td>\n",
       "      <td>232.0</td>\n",
       "    </tr>\n",
       "    <tr>\n",
       "      <th>Albania</th>\n",
       "      <td>0</td>\n",
       "      <td>0</td>\n",
       "      <td>0</td>\n",
       "      <td>0</td>\n",
       "      <td>0</td>\n",
       "      <td>0</td>\n",
       "      <td>0</td>\n",
       "      <td>0</td>\n",
       "      <td>0</td>\n",
       "      <td>0</td>\n",
       "      <td>...</td>\n",
       "      <td>634</td>\n",
       "      <td>663</td>\n",
       "      <td>678</td>\n",
       "      <td>712</td>\n",
       "      <td>726</td>\n",
       "      <td>736</td>\n",
       "      <td>750</td>\n",
       "      <td>766</td>\n",
       "      <td>773</td>\n",
       "      <td>34.0</td>\n",
       "    </tr>\n",
       "    <tr>\n",
       "      <th>Algeria</th>\n",
       "      <td>0</td>\n",
       "      <td>0</td>\n",
       "      <td>0</td>\n",
       "      <td>0</td>\n",
       "      <td>0</td>\n",
       "      <td>0</td>\n",
       "      <td>0</td>\n",
       "      <td>0</td>\n",
       "      <td>0</td>\n",
       "      <td>0</td>\n",
       "      <td>...</td>\n",
       "      <td>2910</td>\n",
       "      <td>3007</td>\n",
       "      <td>3127</td>\n",
       "      <td>3256</td>\n",
       "      <td>3382</td>\n",
       "      <td>3517</td>\n",
       "      <td>3649</td>\n",
       "      <td>3848</td>\n",
       "      <td>4006</td>\n",
       "      <td>199.0</td>\n",
       "    </tr>\n",
       "    <tr>\n",
       "      <th>Andorra</th>\n",
       "      <td>0</td>\n",
       "      <td>0</td>\n",
       "      <td>0</td>\n",
       "      <td>0</td>\n",
       "      <td>0</td>\n",
       "      <td>0</td>\n",
       "      <td>0</td>\n",
       "      <td>0</td>\n",
       "      <td>0</td>\n",
       "      <td>0</td>\n",
       "      <td>...</td>\n",
       "      <td>723</td>\n",
       "      <td>723</td>\n",
       "      <td>731</td>\n",
       "      <td>738</td>\n",
       "      <td>738</td>\n",
       "      <td>743</td>\n",
       "      <td>743</td>\n",
       "      <td>743</td>\n",
       "      <td>745</td>\n",
       "      <td>43.0</td>\n",
       "    </tr>\n",
       "    <tr>\n",
       "      <th>Angola</th>\n",
       "      <td>0</td>\n",
       "      <td>0</td>\n",
       "      <td>0</td>\n",
       "      <td>0</td>\n",
       "      <td>0</td>\n",
       "      <td>0</td>\n",
       "      <td>0</td>\n",
       "      <td>0</td>\n",
       "      <td>0</td>\n",
       "      <td>0</td>\n",
       "      <td>...</td>\n",
       "      <td>25</td>\n",
       "      <td>25</td>\n",
       "      <td>25</td>\n",
       "      <td>25</td>\n",
       "      <td>26</td>\n",
       "      <td>27</td>\n",
       "      <td>27</td>\n",
       "      <td>27</td>\n",
       "      <td>27</td>\n",
       "      <td>5.0</td>\n",
       "    </tr>\n",
       "  </tbody>\n",
       "</table>\n",
       "<p>5 rows × 101 columns</p>\n",
       "</div>"
      ],
      "text/plain": [
       "                1/22/20  1/23/20  1/24/20  1/25/20  1/26/20  1/27/20  1/28/20  \\\n",
       "Country/Region                                                                  \n",
       "Afghanistan           0        0        0        0        0        0        0   \n",
       "Albania               0        0        0        0        0        0        0   \n",
       "Algeria               0        0        0        0        0        0        0   \n",
       "Andorra               0        0        0        0        0        0        0   \n",
       "Angola                0        0        0        0        0        0        0   \n",
       "\n",
       "                1/29/20  1/30/20  1/31/20  ...  4/22/20  4/23/20  4/24/20  \\\n",
       "Country/Region                             ...                              \n",
       "Afghanistan           0        0        0  ...     1176     1279     1351   \n",
       "Albania               0        0        0  ...      634      663      678   \n",
       "Algeria               0        0        0  ...     2910     3007     3127   \n",
       "Andorra               0        0        0  ...      723      723      731   \n",
       "Angola                0        0        0  ...       25       25       25   \n",
       "\n",
       "                4/25/20  4/26/20  4/27/20  4/28/20  4/29/20  4/30/20  \\\n",
       "Country/Region                                                         \n",
       "Afghanistan        1463     1531     1703     1828     1939     2171   \n",
       "Albania             712      726      736      750      766      773   \n",
       "Algeria            3256     3382     3517     3649     3848     4006   \n",
       "Andorra             738      738      743      743      743      745   \n",
       "Angola               25       26       27       27       27       27   \n",
       "\n",
       "                max_infection_rates  \n",
       "Country/Region                       \n",
       "Afghanistan                   232.0  \n",
       "Albania                        34.0  \n",
       "Algeria                       199.0  \n",
       "Andorra                        43.0  \n",
       "Angola                          5.0  \n",
       "\n",
       "[5 rows x 101 columns]"
      ]
     },
     "execution_count": 28,
     "metadata": {},
     "output_type": "execute_result"
    }
   ],
   "source": [
    "corona_dataset_aggregated[\"max_infection_rates\"] = max_infection_rates\n",
    "corona_dataset_aggregated.head()"
   ]
  },
  {
   "cell_type": "markdown",
   "metadata": {},
   "source": [
    "### Task 3.4: create a new dataframe with only needed column "
   ]
  },
  {
   "cell_type": "code",
   "execution_count": 29,
   "metadata": {},
   "outputs": [],
   "source": [
    "corona_data = pd.DataFrame(corona_dataset_aggregated[\"max_infection_rates\"])"
   ]
  },
  {
   "cell_type": "code",
   "execution_count": 30,
   "metadata": {},
   "outputs": [
    {
     "data": {
      "text/html": [
       "<div>\n",
       "<style scoped>\n",
       "    .dataframe tbody tr th:only-of-type {\n",
       "        vertical-align: middle;\n",
       "    }\n",
       "\n",
       "    .dataframe tbody tr th {\n",
       "        vertical-align: top;\n",
       "    }\n",
       "\n",
       "    .dataframe thead th {\n",
       "        text-align: right;\n",
       "    }\n",
       "</style>\n",
       "<table border=\"1\" class=\"dataframe\">\n",
       "  <thead>\n",
       "    <tr style=\"text-align: right;\">\n",
       "      <th></th>\n",
       "      <th>max_infection_rates</th>\n",
       "    </tr>\n",
       "    <tr>\n",
       "      <th>Country/Region</th>\n",
       "      <th></th>\n",
       "    </tr>\n",
       "  </thead>\n",
       "  <tbody>\n",
       "    <tr>\n",
       "      <th>Afghanistan</th>\n",
       "      <td>232.0</td>\n",
       "    </tr>\n",
       "    <tr>\n",
       "      <th>Albania</th>\n",
       "      <td>34.0</td>\n",
       "    </tr>\n",
       "    <tr>\n",
       "      <th>Algeria</th>\n",
       "      <td>199.0</td>\n",
       "    </tr>\n",
       "    <tr>\n",
       "      <th>Andorra</th>\n",
       "      <td>43.0</td>\n",
       "    </tr>\n",
       "    <tr>\n",
       "      <th>Angola</th>\n",
       "      <td>5.0</td>\n",
       "    </tr>\n",
       "  </tbody>\n",
       "</table>\n",
       "</div>"
      ],
      "text/plain": [
       "                max_infection_rates\n",
       "Country/Region                     \n",
       "Afghanistan                   232.0\n",
       "Albania                        34.0\n",
       "Algeria                       199.0\n",
       "Andorra                        43.0\n",
       "Angola                          5.0"
      ]
     },
     "execution_count": 30,
     "metadata": {},
     "output_type": "execute_result"
    }
   ],
   "source": [
    "corona_data.head()"
   ]
  },
  {
   "cell_type": "markdown",
   "metadata": {},
   "source": [
    "### Task4: \n",
    "- Importing the WorldHappinessReport.csv dataset\n",
    "- selecting needed columns for our analysis \n",
    "- join the datasets \n",
    "- calculate the correlations as the result of our analysis"
   ]
  },
  {
   "cell_type": "markdown",
   "metadata": {},
   "source": [
    "### Task 4.1 : importing the dataset"
   ]
  },
  {
   "cell_type": "code",
   "execution_count": 32,
   "metadata": {},
   "outputs": [],
   "source": [
    "happiness_report_csv = pd.read_csv(\"D:\\spyder files\\covid19\\worldwide_happiness_report.csv\")"
   ]
  },
  {
   "cell_type": "code",
   "execution_count": 33,
   "metadata": {},
   "outputs": [
    {
     "data": {
      "text/html": [
       "<div>\n",
       "<style scoped>\n",
       "    .dataframe tbody tr th:only-of-type {\n",
       "        vertical-align: middle;\n",
       "    }\n",
       "\n",
       "    .dataframe tbody tr th {\n",
       "        vertical-align: top;\n",
       "    }\n",
       "\n",
       "    .dataframe thead th {\n",
       "        text-align: right;\n",
       "    }\n",
       "</style>\n",
       "<table border=\"1\" class=\"dataframe\">\n",
       "  <thead>\n",
       "    <tr style=\"text-align: right;\">\n",
       "      <th></th>\n",
       "      <th>Overall rank</th>\n",
       "      <th>Country or region</th>\n",
       "      <th>Score</th>\n",
       "      <th>GDP per capita</th>\n",
       "      <th>Social support</th>\n",
       "      <th>Healthy life expectancy</th>\n",
       "      <th>Freedom to make life choices</th>\n",
       "      <th>Generosity</th>\n",
       "      <th>Perceptions of corruption</th>\n",
       "    </tr>\n",
       "  </thead>\n",
       "  <tbody>\n",
       "    <tr>\n",
       "      <th>0</th>\n",
       "      <td>1</td>\n",
       "      <td>Finland</td>\n",
       "      <td>7.769</td>\n",
       "      <td>1.340</td>\n",
       "      <td>1.587</td>\n",
       "      <td>0.986</td>\n",
       "      <td>0.596</td>\n",
       "      <td>0.153</td>\n",
       "      <td>0.393</td>\n",
       "    </tr>\n",
       "    <tr>\n",
       "      <th>1</th>\n",
       "      <td>2</td>\n",
       "      <td>Denmark</td>\n",
       "      <td>7.600</td>\n",
       "      <td>1.383</td>\n",
       "      <td>1.573</td>\n",
       "      <td>0.996</td>\n",
       "      <td>0.592</td>\n",
       "      <td>0.252</td>\n",
       "      <td>0.410</td>\n",
       "    </tr>\n",
       "    <tr>\n",
       "      <th>2</th>\n",
       "      <td>3</td>\n",
       "      <td>Norway</td>\n",
       "      <td>7.554</td>\n",
       "      <td>1.488</td>\n",
       "      <td>1.582</td>\n",
       "      <td>1.028</td>\n",
       "      <td>0.603</td>\n",
       "      <td>0.271</td>\n",
       "      <td>0.341</td>\n",
       "    </tr>\n",
       "    <tr>\n",
       "      <th>3</th>\n",
       "      <td>4</td>\n",
       "      <td>Iceland</td>\n",
       "      <td>7.494</td>\n",
       "      <td>1.380</td>\n",
       "      <td>1.624</td>\n",
       "      <td>1.026</td>\n",
       "      <td>0.591</td>\n",
       "      <td>0.354</td>\n",
       "      <td>0.118</td>\n",
       "    </tr>\n",
       "    <tr>\n",
       "      <th>4</th>\n",
       "      <td>5</td>\n",
       "      <td>Netherlands</td>\n",
       "      <td>7.488</td>\n",
       "      <td>1.396</td>\n",
       "      <td>1.522</td>\n",
       "      <td>0.999</td>\n",
       "      <td>0.557</td>\n",
       "      <td>0.322</td>\n",
       "      <td>0.298</td>\n",
       "    </tr>\n",
       "  </tbody>\n",
       "</table>\n",
       "</div>"
      ],
      "text/plain": [
       "   Overall rank Country or region  Score  GDP per capita  Social support  \\\n",
       "0             1           Finland  7.769           1.340           1.587   \n",
       "1             2           Denmark  7.600           1.383           1.573   \n",
       "2             3            Norway  7.554           1.488           1.582   \n",
       "3             4           Iceland  7.494           1.380           1.624   \n",
       "4             5       Netherlands  7.488           1.396           1.522   \n",
       "\n",
       "   Healthy life expectancy  Freedom to make life choices  Generosity  \\\n",
       "0                    0.986                         0.596       0.153   \n",
       "1                    0.996                         0.592       0.252   \n",
       "2                    1.028                         0.603       0.271   \n",
       "3                    1.026                         0.591       0.354   \n",
       "4                    0.999                         0.557       0.322   \n",
       "\n",
       "   Perceptions of corruption  \n",
       "0                      0.393  \n",
       "1                      0.410  \n",
       "2                      0.341  \n",
       "3                      0.118  \n",
       "4                      0.298  "
      ]
     },
     "execution_count": 33,
     "metadata": {},
     "output_type": "execute_result"
    }
   ],
   "source": [
    "\n",
    "happiness_report_csv.head()"
   ]
  },
  {
   "cell_type": "markdown",
   "metadata": {},
   "source": [
    "### Task 4.2: let's drop the useless columns "
   ]
  },
  {
   "cell_type": "code",
   "execution_count": 34,
   "metadata": {},
   "outputs": [],
   "source": [
    "useless_cols = [\"Overall rank\", \"Score\", \"Generosity\", \"Perceptions of corruption\"]"
   ]
  },
  {
   "cell_type": "code",
   "execution_count": 35,
   "metadata": {},
   "outputs": [
    {
     "data": {
      "text/html": [
       "<div>\n",
       "<style scoped>\n",
       "    .dataframe tbody tr th:only-of-type {\n",
       "        vertical-align: middle;\n",
       "    }\n",
       "\n",
       "    .dataframe tbody tr th {\n",
       "        vertical-align: top;\n",
       "    }\n",
       "\n",
       "    .dataframe thead th {\n",
       "        text-align: right;\n",
       "    }\n",
       "</style>\n",
       "<table border=\"1\" class=\"dataframe\">\n",
       "  <thead>\n",
       "    <tr style=\"text-align: right;\">\n",
       "      <th></th>\n",
       "      <th>Country or region</th>\n",
       "      <th>GDP per capita</th>\n",
       "      <th>Social support</th>\n",
       "      <th>Healthy life expectancy</th>\n",
       "      <th>Freedom to make life choices</th>\n",
       "    </tr>\n",
       "  </thead>\n",
       "  <tbody>\n",
       "    <tr>\n",
       "      <th>0</th>\n",
       "      <td>Finland</td>\n",
       "      <td>1.340</td>\n",
       "      <td>1.587</td>\n",
       "      <td>0.986</td>\n",
       "      <td>0.596</td>\n",
       "    </tr>\n",
       "    <tr>\n",
       "      <th>1</th>\n",
       "      <td>Denmark</td>\n",
       "      <td>1.383</td>\n",
       "      <td>1.573</td>\n",
       "      <td>0.996</td>\n",
       "      <td>0.592</td>\n",
       "    </tr>\n",
       "    <tr>\n",
       "      <th>2</th>\n",
       "      <td>Norway</td>\n",
       "      <td>1.488</td>\n",
       "      <td>1.582</td>\n",
       "      <td>1.028</td>\n",
       "      <td>0.603</td>\n",
       "    </tr>\n",
       "    <tr>\n",
       "      <th>3</th>\n",
       "      <td>Iceland</td>\n",
       "      <td>1.380</td>\n",
       "      <td>1.624</td>\n",
       "      <td>1.026</td>\n",
       "      <td>0.591</td>\n",
       "    </tr>\n",
       "    <tr>\n",
       "      <th>4</th>\n",
       "      <td>Netherlands</td>\n",
       "      <td>1.396</td>\n",
       "      <td>1.522</td>\n",
       "      <td>0.999</td>\n",
       "      <td>0.557</td>\n",
       "    </tr>\n",
       "  </tbody>\n",
       "</table>\n",
       "</div>"
      ],
      "text/plain": [
       "  Country or region  GDP per capita  Social support  Healthy life expectancy  \\\n",
       "0           Finland           1.340           1.587                    0.986   \n",
       "1           Denmark           1.383           1.573                    0.996   \n",
       "2            Norway           1.488           1.582                    1.028   \n",
       "3           Iceland           1.380           1.624                    1.026   \n",
       "4       Netherlands           1.396           1.522                    0.999   \n",
       "\n",
       "   Freedom to make life choices  \n",
       "0                         0.596  \n",
       "1                         0.592  \n",
       "2                         0.603  \n",
       "3                         0.591  \n",
       "4                         0.557  "
      ]
     },
     "execution_count": 35,
     "metadata": {},
     "output_type": "execute_result"
    }
   ],
   "source": [
    "happiness_report_csv.drop(useless_cols, axis=1, inplace=True)\n",
    "happiness_report_csv.head()"
   ]
  },
  {
   "cell_type": "markdown",
   "metadata": {},
   "source": [
    "### Task 4.3: changing the indices of the dataframe"
   ]
  },
  {
   "cell_type": "code",
   "execution_count": 36,
   "metadata": {},
   "outputs": [
    {
     "data": {
      "text/html": [
       "<div>\n",
       "<style scoped>\n",
       "    .dataframe tbody tr th:only-of-type {\n",
       "        vertical-align: middle;\n",
       "    }\n",
       "\n",
       "    .dataframe tbody tr th {\n",
       "        vertical-align: top;\n",
       "    }\n",
       "\n",
       "    .dataframe thead th {\n",
       "        text-align: right;\n",
       "    }\n",
       "</style>\n",
       "<table border=\"1\" class=\"dataframe\">\n",
       "  <thead>\n",
       "    <tr style=\"text-align: right;\">\n",
       "      <th></th>\n",
       "      <th>GDP per capita</th>\n",
       "      <th>Social support</th>\n",
       "      <th>Healthy life expectancy</th>\n",
       "      <th>Freedom to make life choices</th>\n",
       "    </tr>\n",
       "    <tr>\n",
       "      <th>Country or region</th>\n",
       "      <th></th>\n",
       "      <th></th>\n",
       "      <th></th>\n",
       "      <th></th>\n",
       "    </tr>\n",
       "  </thead>\n",
       "  <tbody>\n",
       "    <tr>\n",
       "      <th>Finland</th>\n",
       "      <td>1.340</td>\n",
       "      <td>1.587</td>\n",
       "      <td>0.986</td>\n",
       "      <td>0.596</td>\n",
       "    </tr>\n",
       "    <tr>\n",
       "      <th>Denmark</th>\n",
       "      <td>1.383</td>\n",
       "      <td>1.573</td>\n",
       "      <td>0.996</td>\n",
       "      <td>0.592</td>\n",
       "    </tr>\n",
       "    <tr>\n",
       "      <th>Norway</th>\n",
       "      <td>1.488</td>\n",
       "      <td>1.582</td>\n",
       "      <td>1.028</td>\n",
       "      <td>0.603</td>\n",
       "    </tr>\n",
       "    <tr>\n",
       "      <th>Iceland</th>\n",
       "      <td>1.380</td>\n",
       "      <td>1.624</td>\n",
       "      <td>1.026</td>\n",
       "      <td>0.591</td>\n",
       "    </tr>\n",
       "    <tr>\n",
       "      <th>Netherlands</th>\n",
       "      <td>1.396</td>\n",
       "      <td>1.522</td>\n",
       "      <td>0.999</td>\n",
       "      <td>0.557</td>\n",
       "    </tr>\n",
       "  </tbody>\n",
       "</table>\n",
       "</div>"
      ],
      "text/plain": [
       "                   GDP per capita  Social support  Healthy life expectancy  \\\n",
       "Country or region                                                            \n",
       "Finland                     1.340           1.587                    0.986   \n",
       "Denmark                     1.383           1.573                    0.996   \n",
       "Norway                      1.488           1.582                    1.028   \n",
       "Iceland                     1.380           1.624                    1.026   \n",
       "Netherlands                 1.396           1.522                    0.999   \n",
       "\n",
       "                   Freedom to make life choices  \n",
       "Country or region                                \n",
       "Finland                                   0.596  \n",
       "Denmark                                   0.592  \n",
       "Norway                                    0.603  \n",
       "Iceland                                   0.591  \n",
       "Netherlands                               0.557  "
      ]
     },
     "execution_count": 36,
     "metadata": {},
     "output_type": "execute_result"
    }
   ],
   "source": [
    "happiness_report_csv.set_index(\"Country or region\", inplace=True)\n",
    "happiness_report_csv.head()"
   ]
  },
  {
   "cell_type": "markdown",
   "metadata": {},
   "source": [
    "### Task4.4: now let's join two dataset we have prepared  "
   ]
  },
  {
   "cell_type": "markdown",
   "metadata": {},
   "source": [
    "#### Corona Dataset :"
   ]
  },
  {
   "cell_type": "code",
   "execution_count": 37,
   "metadata": {},
   "outputs": [
    {
     "data": {
      "text/html": [
       "<div>\n",
       "<style scoped>\n",
       "    .dataframe tbody tr th:only-of-type {\n",
       "        vertical-align: middle;\n",
       "    }\n",
       "\n",
       "    .dataframe tbody tr th {\n",
       "        vertical-align: top;\n",
       "    }\n",
       "\n",
       "    .dataframe thead th {\n",
       "        text-align: right;\n",
       "    }\n",
       "</style>\n",
       "<table border=\"1\" class=\"dataframe\">\n",
       "  <thead>\n",
       "    <tr style=\"text-align: right;\">\n",
       "      <th></th>\n",
       "      <th>max_infection_rates</th>\n",
       "    </tr>\n",
       "    <tr>\n",
       "      <th>Country/Region</th>\n",
       "      <th></th>\n",
       "    </tr>\n",
       "  </thead>\n",
       "  <tbody>\n",
       "    <tr>\n",
       "      <th>Afghanistan</th>\n",
       "      <td>232.0</td>\n",
       "    </tr>\n",
       "    <tr>\n",
       "      <th>Albania</th>\n",
       "      <td>34.0</td>\n",
       "    </tr>\n",
       "    <tr>\n",
       "      <th>Algeria</th>\n",
       "      <td>199.0</td>\n",
       "    </tr>\n",
       "    <tr>\n",
       "      <th>Andorra</th>\n",
       "      <td>43.0</td>\n",
       "    </tr>\n",
       "    <tr>\n",
       "      <th>Angola</th>\n",
       "      <td>5.0</td>\n",
       "    </tr>\n",
       "  </tbody>\n",
       "</table>\n",
       "</div>"
      ],
      "text/plain": [
       "                max_infection_rates\n",
       "Country/Region                     \n",
       "Afghanistan                   232.0\n",
       "Albania                        34.0\n",
       "Algeria                       199.0\n",
       "Andorra                        43.0\n",
       "Angola                          5.0"
      ]
     },
     "execution_count": 37,
     "metadata": {},
     "output_type": "execute_result"
    }
   ],
   "source": [
    "corona_data.head()"
   ]
  },
  {
   "cell_type": "markdown",
   "metadata": {},
   "source": [
    "#### wolrd happiness report Dataset :"
   ]
  },
  {
   "cell_type": "code",
   "execution_count": 38,
   "metadata": {},
   "outputs": [
    {
     "data": {
      "text/plain": [
       "(187, 1)"
      ]
     },
     "execution_count": 38,
     "metadata": {},
     "output_type": "execute_result"
    }
   ],
   "source": [
    "corona_data.shape"
   ]
  },
  {
   "cell_type": "code",
   "execution_count": 39,
   "metadata": {},
   "outputs": [
    {
     "data": {
      "text/html": [
       "<div>\n",
       "<style scoped>\n",
       "    .dataframe tbody tr th:only-of-type {\n",
       "        vertical-align: middle;\n",
       "    }\n",
       "\n",
       "    .dataframe tbody tr th {\n",
       "        vertical-align: top;\n",
       "    }\n",
       "\n",
       "    .dataframe thead th {\n",
       "        text-align: right;\n",
       "    }\n",
       "</style>\n",
       "<table border=\"1\" class=\"dataframe\">\n",
       "  <thead>\n",
       "    <tr style=\"text-align: right;\">\n",
       "      <th></th>\n",
       "      <th>GDP per capita</th>\n",
       "      <th>Social support</th>\n",
       "      <th>Healthy life expectancy</th>\n",
       "      <th>Freedom to make life choices</th>\n",
       "    </tr>\n",
       "    <tr>\n",
       "      <th>Country or region</th>\n",
       "      <th></th>\n",
       "      <th></th>\n",
       "      <th></th>\n",
       "      <th></th>\n",
       "    </tr>\n",
       "  </thead>\n",
       "  <tbody>\n",
       "    <tr>\n",
       "      <th>Finland</th>\n",
       "      <td>1.340</td>\n",
       "      <td>1.587</td>\n",
       "      <td>0.986</td>\n",
       "      <td>0.596</td>\n",
       "    </tr>\n",
       "    <tr>\n",
       "      <th>Denmark</th>\n",
       "      <td>1.383</td>\n",
       "      <td>1.573</td>\n",
       "      <td>0.996</td>\n",
       "      <td>0.592</td>\n",
       "    </tr>\n",
       "    <tr>\n",
       "      <th>Norway</th>\n",
       "      <td>1.488</td>\n",
       "      <td>1.582</td>\n",
       "      <td>1.028</td>\n",
       "      <td>0.603</td>\n",
       "    </tr>\n",
       "    <tr>\n",
       "      <th>Iceland</th>\n",
       "      <td>1.380</td>\n",
       "      <td>1.624</td>\n",
       "      <td>1.026</td>\n",
       "      <td>0.591</td>\n",
       "    </tr>\n",
       "    <tr>\n",
       "      <th>Netherlands</th>\n",
       "      <td>1.396</td>\n",
       "      <td>1.522</td>\n",
       "      <td>0.999</td>\n",
       "      <td>0.557</td>\n",
       "    </tr>\n",
       "  </tbody>\n",
       "</table>\n",
       "</div>"
      ],
      "text/plain": [
       "                   GDP per capita  Social support  Healthy life expectancy  \\\n",
       "Country or region                                                            \n",
       "Finland                     1.340           1.587                    0.986   \n",
       "Denmark                     1.383           1.573                    0.996   \n",
       "Norway                      1.488           1.582                    1.028   \n",
       "Iceland                     1.380           1.624                    1.026   \n",
       "Netherlands                 1.396           1.522                    0.999   \n",
       "\n",
       "                   Freedom to make life choices  \n",
       "Country or region                                \n",
       "Finland                                   0.596  \n",
       "Denmark                                   0.592  \n",
       "Norway                                    0.603  \n",
       "Iceland                                   0.591  \n",
       "Netherlands                               0.557  "
      ]
     },
     "execution_count": 39,
     "metadata": {},
     "output_type": "execute_result"
    }
   ],
   "source": [
    "happiness_report_csv.head()"
   ]
  },
  {
   "cell_type": "code",
   "execution_count": 40,
   "metadata": {},
   "outputs": [
    {
     "data": {
      "text/plain": [
       "(156, 4)"
      ]
     },
     "execution_count": 40,
     "metadata": {},
     "output_type": "execute_result"
    }
   ],
   "source": [
    "happiness_report_csv.shape"
   ]
  },
  {
   "cell_type": "code",
   "execution_count": 41,
   "metadata": {},
   "outputs": [
    {
     "data": {
      "text/html": [
       "<div>\n",
       "<style scoped>\n",
       "    .dataframe tbody tr th:only-of-type {\n",
       "        vertical-align: middle;\n",
       "    }\n",
       "\n",
       "    .dataframe tbody tr th {\n",
       "        vertical-align: top;\n",
       "    }\n",
       "\n",
       "    .dataframe thead th {\n",
       "        text-align: right;\n",
       "    }\n",
       "</style>\n",
       "<table border=\"1\" class=\"dataframe\">\n",
       "  <thead>\n",
       "    <tr style=\"text-align: right;\">\n",
       "      <th></th>\n",
       "      <th>max_infection_rates</th>\n",
       "      <th>GDP per capita</th>\n",
       "      <th>Social support</th>\n",
       "      <th>Healthy life expectancy</th>\n",
       "      <th>Freedom to make life choices</th>\n",
       "    </tr>\n",
       "  </thead>\n",
       "  <tbody>\n",
       "    <tr>\n",
       "      <th>Afghanistan</th>\n",
       "      <td>232.0</td>\n",
       "      <td>0.350</td>\n",
       "      <td>0.517</td>\n",
       "      <td>0.361</td>\n",
       "      <td>0.000</td>\n",
       "    </tr>\n",
       "    <tr>\n",
       "      <th>Albania</th>\n",
       "      <td>34.0</td>\n",
       "      <td>0.947</td>\n",
       "      <td>0.848</td>\n",
       "      <td>0.874</td>\n",
       "      <td>0.383</td>\n",
       "    </tr>\n",
       "    <tr>\n",
       "      <th>Algeria</th>\n",
       "      <td>199.0</td>\n",
       "      <td>1.002</td>\n",
       "      <td>1.160</td>\n",
       "      <td>0.785</td>\n",
       "      <td>0.086</td>\n",
       "    </tr>\n",
       "    <tr>\n",
       "      <th>Argentina</th>\n",
       "      <td>291.0</td>\n",
       "      <td>1.092</td>\n",
       "      <td>1.432</td>\n",
       "      <td>0.881</td>\n",
       "      <td>0.471</td>\n",
       "    </tr>\n",
       "    <tr>\n",
       "      <th>Armenia</th>\n",
       "      <td>134.0</td>\n",
       "      <td>0.850</td>\n",
       "      <td>1.055</td>\n",
       "      <td>0.815</td>\n",
       "      <td>0.283</td>\n",
       "    </tr>\n",
       "  </tbody>\n",
       "</table>\n",
       "</div>"
      ],
      "text/plain": [
       "             max_infection_rates  GDP per capita  Social support  \\\n",
       "Afghanistan                232.0           0.350           0.517   \n",
       "Albania                     34.0           0.947           0.848   \n",
       "Algeria                    199.0           1.002           1.160   \n",
       "Argentina                  291.0           1.092           1.432   \n",
       "Armenia                    134.0           0.850           1.055   \n",
       "\n",
       "             Healthy life expectancy  Freedom to make life choices  \n",
       "Afghanistan                    0.361                         0.000  \n",
       "Albania                        0.874                         0.383  \n",
       "Algeria                        0.785                         0.086  \n",
       "Argentina                      0.881                         0.471  \n",
       "Armenia                        0.815                         0.283  "
      ]
     },
     "execution_count": 41,
     "metadata": {},
     "output_type": "execute_result"
    }
   ],
   "source": [
    "data = corona_data.join(happiness_report_csv,how = \"inner\")\n",
    "                \n",
    "data.head()"
   ]
  },
  {
   "cell_type": "markdown",
   "metadata": {},
   "source": [
    "### Task 4.5: correlation matrix "
   ]
  },
  {
   "cell_type": "code",
   "execution_count": 42,
   "metadata": {},
   "outputs": [
    {
     "data": {
      "text/html": [
       "<div>\n",
       "<style scoped>\n",
       "    .dataframe tbody tr th:only-of-type {\n",
       "        vertical-align: middle;\n",
       "    }\n",
       "\n",
       "    .dataframe tbody tr th {\n",
       "        vertical-align: top;\n",
       "    }\n",
       "\n",
       "    .dataframe thead th {\n",
       "        text-align: right;\n",
       "    }\n",
       "</style>\n",
       "<table border=\"1\" class=\"dataframe\">\n",
       "  <thead>\n",
       "    <tr style=\"text-align: right;\">\n",
       "      <th></th>\n",
       "      <th>max_infection_rates</th>\n",
       "      <th>GDP per capita</th>\n",
       "      <th>Social support</th>\n",
       "      <th>Healthy life expectancy</th>\n",
       "      <th>Freedom to make life choices</th>\n",
       "    </tr>\n",
       "  </thead>\n",
       "  <tbody>\n",
       "    <tr>\n",
       "      <th>max_infection_rates</th>\n",
       "      <td>1.000000</td>\n",
       "      <td>0.250118</td>\n",
       "      <td>0.191958</td>\n",
       "      <td>0.289263</td>\n",
       "      <td>0.078196</td>\n",
       "    </tr>\n",
       "    <tr>\n",
       "      <th>GDP per capita</th>\n",
       "      <td>0.250118</td>\n",
       "      <td>1.000000</td>\n",
       "      <td>0.759468</td>\n",
       "      <td>0.863062</td>\n",
       "      <td>0.394603</td>\n",
       "    </tr>\n",
       "    <tr>\n",
       "      <th>Social support</th>\n",
       "      <td>0.191958</td>\n",
       "      <td>0.759468</td>\n",
       "      <td>1.000000</td>\n",
       "      <td>0.765286</td>\n",
       "      <td>0.456246</td>\n",
       "    </tr>\n",
       "    <tr>\n",
       "      <th>Healthy life expectancy</th>\n",
       "      <td>0.289263</td>\n",
       "      <td>0.863062</td>\n",
       "      <td>0.765286</td>\n",
       "      <td>1.000000</td>\n",
       "      <td>0.427892</td>\n",
       "    </tr>\n",
       "    <tr>\n",
       "      <th>Freedom to make life choices</th>\n",
       "      <td>0.078196</td>\n",
       "      <td>0.394603</td>\n",
       "      <td>0.456246</td>\n",
       "      <td>0.427892</td>\n",
       "      <td>1.000000</td>\n",
       "    </tr>\n",
       "  </tbody>\n",
       "</table>\n",
       "</div>"
      ],
      "text/plain": [
       "                              max_infection_rates  GDP per capita  \\\n",
       "max_infection_rates                      1.000000        0.250118   \n",
       "GDP per capita                           0.250118        1.000000   \n",
       "Social support                           0.191958        0.759468   \n",
       "Healthy life expectancy                  0.289263        0.863062   \n",
       "Freedom to make life choices             0.078196        0.394603   \n",
       "\n",
       "                              Social support  Healthy life expectancy  \\\n",
       "max_infection_rates                 0.191958                 0.289263   \n",
       "GDP per capita                      0.759468                 0.863062   \n",
       "Social support                      1.000000                 0.765286   \n",
       "Healthy life expectancy             0.765286                 1.000000   \n",
       "Freedom to make life choices        0.456246                 0.427892   \n",
       "\n",
       "                              Freedom to make life choices  \n",
       "max_infection_rates                               0.078196  \n",
       "GDP per capita                                    0.394603  \n",
       "Social support                                    0.456246  \n",
       "Healthy life expectancy                           0.427892  \n",
       "Freedom to make life choices                      1.000000  "
      ]
     },
     "execution_count": 42,
     "metadata": {},
     "output_type": "execute_result"
    }
   ],
   "source": [
    "data.corr()"
   ]
  },
  {
   "cell_type": "markdown",
   "metadata": {},
   "source": [
    "### Task 5: Visualization of the results\n",
    "our Analysis is not finished unless we visualize the results in terms figures and graphs so that everyone can understand what you get out of our analysis"
   ]
  },
  {
   "cell_type": "code",
   "execution_count": 43,
   "metadata": {},
   "outputs": [
    {
     "data": {
      "text/html": [
       "<div>\n",
       "<style scoped>\n",
       "    .dataframe tbody tr th:only-of-type {\n",
       "        vertical-align: middle;\n",
       "    }\n",
       "\n",
       "    .dataframe tbody tr th {\n",
       "        vertical-align: top;\n",
       "    }\n",
       "\n",
       "    .dataframe thead th {\n",
       "        text-align: right;\n",
       "    }\n",
       "</style>\n",
       "<table border=\"1\" class=\"dataframe\">\n",
       "  <thead>\n",
       "    <tr style=\"text-align: right;\">\n",
       "      <th></th>\n",
       "      <th>max_infection_rates</th>\n",
       "      <th>GDP per capita</th>\n",
       "      <th>Social support</th>\n",
       "      <th>Healthy life expectancy</th>\n",
       "      <th>Freedom to make life choices</th>\n",
       "    </tr>\n",
       "  </thead>\n",
       "  <tbody>\n",
       "    <tr>\n",
       "      <th>Afghanistan</th>\n",
       "      <td>232.0</td>\n",
       "      <td>0.350</td>\n",
       "      <td>0.517</td>\n",
       "      <td>0.361</td>\n",
       "      <td>0.000</td>\n",
       "    </tr>\n",
       "    <tr>\n",
       "      <th>Albania</th>\n",
       "      <td>34.0</td>\n",
       "      <td>0.947</td>\n",
       "      <td>0.848</td>\n",
       "      <td>0.874</td>\n",
       "      <td>0.383</td>\n",
       "    </tr>\n",
       "    <tr>\n",
       "      <th>Algeria</th>\n",
       "      <td>199.0</td>\n",
       "      <td>1.002</td>\n",
       "      <td>1.160</td>\n",
       "      <td>0.785</td>\n",
       "      <td>0.086</td>\n",
       "    </tr>\n",
       "    <tr>\n",
       "      <th>Argentina</th>\n",
       "      <td>291.0</td>\n",
       "      <td>1.092</td>\n",
       "      <td>1.432</td>\n",
       "      <td>0.881</td>\n",
       "      <td>0.471</td>\n",
       "    </tr>\n",
       "    <tr>\n",
       "      <th>Armenia</th>\n",
       "      <td>134.0</td>\n",
       "      <td>0.850</td>\n",
       "      <td>1.055</td>\n",
       "      <td>0.815</td>\n",
       "      <td>0.283</td>\n",
       "    </tr>\n",
       "  </tbody>\n",
       "</table>\n",
       "</div>"
      ],
      "text/plain": [
       "             max_infection_rates  GDP per capita  Social support  \\\n",
       "Afghanistan                232.0           0.350           0.517   \n",
       "Albania                     34.0           0.947           0.848   \n",
       "Algeria                    199.0           1.002           1.160   \n",
       "Argentina                  291.0           1.092           1.432   \n",
       "Armenia                    134.0           0.850           1.055   \n",
       "\n",
       "             Healthy life expectancy  Freedom to make life choices  \n",
       "Afghanistan                    0.361                         0.000  \n",
       "Albania                        0.874                         0.383  \n",
       "Algeria                        0.785                         0.086  \n",
       "Argentina                      0.881                         0.471  \n",
       "Armenia                        0.815                         0.283  "
      ]
     },
     "execution_count": 43,
     "metadata": {},
     "output_type": "execute_result"
    }
   ],
   "source": [
    "data.head()"
   ]
  },
  {
   "cell_type": "markdown",
   "metadata": {},
   "source": [
    "### Task 5.1: Plotting GDP vs maximum Infection rate"
   ]
  },
  {
   "cell_type": "code",
   "execution_count": 44,
   "metadata": {},
   "outputs": [
    {
     "data": {
      "text/plain": [
       "<matplotlib.axes._subplots.AxesSubplot at 0x27ef0f71c70>"
      ]
     },
     "execution_count": 44,
     "metadata": {},
     "output_type": "execute_result"
    },
    {
     "data": {
      "image/png": "[encoded data removed]",
      "text/plain": [
       "<Figure size 432x288 with 1 Axes>"
      ]
     },
     "metadata": {
      "needs_background": "light"
     },
     "output_type": "display_data"
    }
   ],
   "source": [
    "x = data[\"GDP per capita\"]\n",
    "y = data[\"max_infection_rates\"]\n",
    "sns.scatterplot(x,y)"
   ]
  },
  {
   "cell_type": "code",
   "execution_count": 45,
   "metadata": {},
   "outputs": [
    {
     "data": {
      "text/plain": [
       "<matplotlib.axes._subplots.AxesSubplot at 0x27ef1098520>"
      ]
     },
     "execution_count": 45,
     "metadata": {},
     "output_type": "execute_result"
    },
    {
     "data": {
      "image/png": "[encoded data removed]",
      "text/plain": [
       "<Figure size 432x288 with 1 Axes>"
      ]
     },
     "metadata": {
      "needs_background": "light"
     },
     "output_type": "display_data"
    }
   ],
   "source": [
    "#Will apply log scaling to y\n",
    "x = data[\"GDP per capita\"]\n",
    "y = data[\"max_infection_rates\"]\n",
    "sns.scatterplot(x,np.log(y))"
   ]
  },
  {
   "cell_type": "code",
   "execution_count": 46,
   "metadata": {},
   "outputs": [
    {
     "data": {
      "text/plain": [
       "<matplotlib.axes._subplots.AxesSubplot at 0x27ef10ca2e0>"
      ]
     },
     "execution_count": 46,
     "metadata": {},
     "output_type": "execute_result"
    },
    {
     "data": {
      "image/png": "[encoded data removed]",
      "text/plain": [
       "<Figure size 432x288 with 1 Axes>"
      ]
     },
     "metadata": {
      "needs_background": "light"
     },
     "output_type": "display_data"
    }
   ],
   "source": [
    "#RegPlot\n",
    "x = data[\"GDP per capita\"]\n",
    "y = data[\"max_infection_rates\"]\n",
    "\n",
    "sns.regplot(x,np.log(y))\n",
    "\n",
    "#Line fitted, +ve slope seen"
   ]
  },
  {
   "cell_type": "markdown",
   "metadata": {},
   "source": [
    "### Task 5.2: Plotting Social support vs maximum Infection rate"
   ]
  },
  {
   "cell_type": "code",
   "execution_count": 47,
   "metadata": {},
   "outputs": [
    {
     "data": {
      "text/plain": [
       "<matplotlib.axes._subplots.AxesSubplot at 0x27ef114f5e0>"
      ]
     },
     "execution_count": 47,
     "metadata": {},
     "output_type": "execute_result"
    },
    {
     "data": {
      "image/png": "[encoded data removed]",
      "text/plain": [
       "<Figure size 432x288 with 1 Axes>"
      ]
     },
     "metadata": {
      "needs_background": "light"
     },
     "output_type": "display_data"
    }
   ],
   "source": [
    "x = data[\"Social support\"]\n",
    "y = data[\"max_infection_rates\"]\n",
    "\n",
    "sns.scatterplot(x,np.log(y))"
   ]
  },
  {
   "cell_type": "code",
   "execution_count": 48,
   "metadata": {},
   "outputs": [
    {
     "data": {
      "text/plain": [
       "<matplotlib.axes._subplots.AxesSubplot at 0x27ef11ab490>"
      ]
     },
     "execution_count": 48,
     "metadata": {},
     "output_type": "execute_result"
    },
    {
     "data": {
      "image/png": "[encoded data removed]",
      "text/plain": [
       "<Figure size 432x288 with 1 Axes>"
      ]
     },
     "metadata": {
      "needs_background": "light"
     },
     "output_type": "display_data"
    }
   ],
   "source": [
    "x = data[\"Social support\"]\n",
    "y = data[\"max_infection_rates\"]\n",
    "\n",
    "sns.regplot(x,np.log(y))"
   ]
  },
  {
   "cell_type": "markdown",
   "metadata": {},
   "source": [
    "### Task 5.3: Plotting Healthy life expectancy vs maximum Infection rate"
   ]
  },
  {
   "cell_type": "code",
   "execution_count": 49,
   "metadata": {},
   "outputs": [
    {
     "data": {
      "text/plain": [
       "<matplotlib.axes._subplots.AxesSubplot at 0x27ef11ab970>"
      ]
     },
     "execution_count": 49,
     "metadata": {},
     "output_type": "execute_result"
    },
    {
     "data": {
      "image/png": "[encoded data removed]",
      "text/plain": [
       "<Figure size 432x288 with 1 Axes>"
      ]
     },
     "metadata": {
      "needs_background": "light"
     },
     "output_type": "display_data"
    }
   ],
   "source": [
    "x = data[\"Healthy life expectancy\"]\n",
    "y = data[\"max_infection_rates\"]\n",
    "\n",
    "sns.scatterplot(x,np.log(y))"
   ]
  },
  {
   "cell_type": "code",
   "execution_count": 50,
   "metadata": {},
   "outputs": [
    {
     "data": {
      "text/plain": [
       "<matplotlib.axes._subplots.AxesSubplot at 0x27ef1142100>"
      ]
     },
     "execution_count": 50,
     "metadata": {},
     "output_type": "execute_result"
    },
    {
     "data": {
      "image/png": "[encoded data removed]",
      "text/plain": [
       "<Figure size 432x288 with 1 Axes>"
      ]
     },
     "metadata": {
      "needs_background": "light"
     },
     "output_type": "display_data"
    }
   ],
   "source": [
    "x = data[\"Healthy life expectancy\"]\n",
    "y = data[\"max_infection_rates\"]\n",
    "\n",
    "sns.regplot(x,np.log(y))"
   ]
  },
  {
   "cell_type": "markdown",
   "metadata": {},
   "source": [
    "### Task 5.4: Plotting Freedom to make life choices vs maximum Infection rate"
   ]
  },
  {
   "cell_type": "code",
   "execution_count": 51,
   "metadata": {},
   "outputs": [
    {
     "data": {
      "text/plain": [
       "<matplotlib.axes._subplots.AxesSubplot at 0x27ef1281550>"
      ]
     },
     "execution_count": 51,
     "metadata": {},
     "output_type": "execute_result"
    },
    {
     "data": {
      "image/png": "[encoded data removed]",
      "text/plain": [
       "<Figure size 432x288 with 1 Axes>"
      ]
     },
     "metadata": {
      "needs_background": "light"
     },
     "output_type": "display_data"
    }
   ],
   "source": [
    "x = data[\"Freedom to make life choices\"]\n",
    "y = data[\"max_infection_rates\"]\n",
    "\n",
    "sns.scatterplot(x,np.log(y))"
   ]
  },
  {
   "cell_type": "code",
   "execution_count": 52,
   "metadata": {},
   "outputs": [
    {
     "data": {
      "text/plain": [
       "<matplotlib.axes._subplots.AxesSubplot at 0x27ef12d20a0>"
      ]
     },
     "execution_count": 52,
     "metadata": {},
     "output_type": "execute_result"
    },
    {
     "data": {
      "image/png": "[encoded data removed]",
      "text/plain": [
       "<Figure size 432x288 with 1 Axes>"
      ]
     },
     "metadata": {
      "needs_background": "light"
     },
     "output_type": "display_data"
    }
   ],
   "source": [
    "x = data[\"Freedom to make life choices\"]\n",
    "y = data[\"max_infection_rates\"]\n",
    "\n",
    "sns.regplot(x,np.log(y))"
   ]
  },
  {
   "cell_type": "code",
   "execution_count": null,
   "metadata": {},
   "outputs": [],
   "source": []
  }
 ],
 "metadata": {
  "kernelspec": {
   "display_name": "Python 3",
   "language": "python",
   "name": "python3"
  },
  "language_info": {
   "codemirror_mode": {
    "name": "ipython",
    "version": 3
   },
   "file_extension": ".py",
   "mimetype": "text/x-python",
   "name": "python",
   "nbconvert_exporter": "python",
   "pygments_lexer": "ipython3",
   "version": "3.8.3"
  }
 },
 "nbformat": 4,
 "nbformat_minor": 2
}
